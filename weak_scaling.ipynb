{
 "cells": [
  {
   "cell_type": "code",
   "execution_count": 44,
   "metadata": {},
   "outputs": [],
   "source": [
    "import os\n",
    "import sys\n",
    "import time\n",
    "import glob\n",
    "import datetime\n",
    "import sqlite3\n",
    "import numpy as np\n",
    "import hdf5getters as GETTERS\n",
    "from pyspark.sql import SparkSession\n",
    "from pyspark import SparkConf, SparkContext\n",
    "\n",
    "spark_session = SparkSession\\\n",
    "        .builder\\\n",
    "        .master(\"spark://192.168.2.35:7077\") \\\n",
    "        .appName(\"weak_scaling\")\\\n",
    "        .config(\"spark.executor.memory\", \"1g\")\\\n",
    "        .config(\"spark.executor.cores\",2)\\\n",
    "        .config(\"spark.dynamicAllocation.enabled\", False) \\\n",
    "        .config(\"spark.shuffle.service.enabled\", False) \\\n",
    "        .getOrCreate()\n",
    "        \n",
    "sc = spark_session.sparkContext"
   ]
  },
  {
   "cell_type": "code",
   "execution_count": 34,
   "metadata": {},
   "outputs": [],
   "source": [
    "import io\n",
    "import h5py\n",
    "import math\n",
    "import attr\n",
    "\n",
    "def get_year(h5):\n",
    "    return int(h5[\"musicbrainz\"][\"songs\"][0][1])\n",
    "\n",
    "def get_artist_hotness(h5):\n",
    "    x = float(h5[\"metadata\"][\"songs\"][0][3])\n",
    "    if math.isnan(x):\n",
    "        return 0.0\n",
    "    else:\n",
    "        return x\n",
    "def get_song_hotness(h5):\n",
    "    x =  float(h5[\"metadata\"][\"songs\"][0][16])\n",
    "    if math.isnan(x):\n",
    "        return 0.0\n",
    "    else:\n",
    "        return x\n",
    "def get_loudness(h5):\n",
    "    x = float(h5[\"analysis\"][\"songs\"][0][23])\n",
    "    if math.isnan(x):\n",
    "        return 0.0\n",
    "    else:\n",
    "        return x\n",
    "def get_tempo(h5):\n",
    "    x = float(h5[\"analysis\"][\"songs\"][0][27])\n",
    "    if math.isnan(x):\n",
    "        return 0.0\n",
    "    else:\n",
    "        return x\n",
    "\n",
    "def f(tup):\n",
    "    #Function to extract necessary information for the analsis from raw data. \n",
    "    _path, data = tup\n",
    "    with io.BytesIO(data) as b, h5py.File(b, \"r\") as f:\n",
    "        return get_song_hotness(f), get_artist_hotness(f), get_loudness(f), get_tempo(f)"
   ]
  },
  {
   "cell_type": "code",
   "execution_count": 35,
   "metadata": {},
   "outputs": [
    {
     "data": {
      "text/plain": [
       "77365"
      ]
     },
     "execution_count": 35,
     "metadata": {},
     "output_type": "execute_result"
    }
   ],
   "source": [
    "#Change the amount of data to be used by adding/removing letters (i.e. subdirectories) to/from these lists. \n",
    "#A_list as the lowest subdirectory in the tree, C_list the highest\n",
    "import time\n",
    "\n",
    "start_time = time.time() \n",
    "\n",
    "A_list = [\"A\", \"B\"] #, \"C\"]\n",
    "B_list = [\"A\", \"B\", \"C\",\"D\",\"E\",\"F\",\"G\",\"H\",\"I\",\"J\",\"K\",\"L\",\"M\" ,\"N\",\"O\", \"P\",\"Q\", \"R\",\"S\", \"T\",\"U\",\"V\",\"W\",\"X\",\"Y\",\"Z\"]\n",
    "C_list = [\"A\", \"B\",\"C\",\"D\",\"E\",\"F\",\"G\",\"H\",\"I\",\"J\",\"K\",\"L\",\"M\",\"N\",\"O\", \"P\",\"Q\", \"R\",\"S\", \"T\",\"U\",\"V\",\"W\",\"X\",\"Y\",\"Z\"]\n",
    "\n",
    "#Generate paths in order to retrieve the data from hdfs\n",
    "\n",
    "all_paths = \"\"\n",
    "i = 0\n",
    "for letter in A_list:\n",
    "    path1 = \"hdfs://192.168.2.35:9000/A/\" + letter + \"/\"\n",
    "    for letter in B_list:\n",
    "        path2 = path1 + letter + \"/\"\n",
    "        for letter in C_list:\n",
    "            path3 = path2 + letter + \"/*\"\n",
    "            if i == 0:\n",
    "                all_paths = path3\n",
    "                i += 1\n",
    "                path3 = \"\"\n",
    "            else:\n",
    "                all_paths = all_paths + \",\" + path3\n",
    "                path3 = \"\"\n",
    "                \n",
    "#Store the complete data in an RDD and extract the information needed for the analysis. \n",
    "#This includes song hotness, artist hotness, loudness and tempo (see functions defined above).\n",
    "\n",
    "files = sc.binaryFiles(all_paths)\n",
    "counts = files.count()\n",
    "rdd1 = files.map(lambda x: f(x))\n",
    "rdd1.count()"
   ]
  },
  {
   "cell_type": "code",
   "execution_count": 36,
   "metadata": {},
   "outputs": [
    {
     "name": "stdout",
     "output_type": "stream",
     "text": [
      "Correlation song hotness and artist hotness:  0.33343042562117364 \n",
      "Correlation song hotness and loudness:  0.14589128584274333 \n",
      "Correlation song hotness and tempo:  0.04667785254230628\n"
     ]
    }
   ],
   "source": [
    "from pyspark.mllib.stat import Statistics\n",
    "\n",
    "rdd2 = rdd1.filter(lambda x: len(x) == 4)\\\n",
    "    .filter(lambda x: type(x[0])== float and type(x[1])== float and\\\n",
    "            type(x[2])== float and type(x[3])== float)\n",
    "\n",
    "rdd_song_hotness = rdd2.map(lambda x: x[0])\n",
    "rdd_artist_hotness = rdd2.map(lambda x: x[1])\n",
    "rdd_loudness = rdd2.map(lambda x: x[2])\n",
    "rdd_tempo = rdd2.map(lambda x: x[3])\n",
    "\n",
    "corr_artist = Statistics.corr(rdd_song_hotness, rdd_artist_hotness, method=\"pearson\")\n",
    "corr_loudness = Statistics.corr(rdd_song_hotness, rdd_loudness, method=\"pearson\")\n",
    "corr_tempo = Statistics.corr(rdd_song_hotness, rdd_tempo, method=\"pearson\")\n",
    "\n",
    "print(\"Correlation song hotness and artist hotness: \", corr_artist,\n",
    "\"\\nCorrelation song hotness and loudness: \", corr_loudness,\n",
    "\"\\nCorrelation song hotness and tempo: \", corr_tempo)\n",
    "\n",
    "end_time = time.time()"
   ]
  },
  {
   "cell_type": "code",
   "execution_count": 37,
   "metadata": {},
   "outputs": [
    {
     "name": "stdout",
     "output_type": "stream",
     "text": [
      "282.057856798172 1192.1971716880798 2563.087855577469 4593.0076994895935\n"
     ]
    }
   ],
   "source": [
    "execution_time1 #= end_time - start_time\n",
    "execution_time2 #= end_time - start_time\n",
    "execution_time3 #= end_time - start_time\n",
    "execution_time4 = end_time - start_time\n",
    "\n",
    "print(execution_time1, execution_time2, execution_time3, execution_time4)"
   ]
  },
  {
   "cell_type": "code",
   "execution_count": 41,
   "metadata": {},
   "outputs": [
    {
     "data": {
      "image/png": "[encoded data removed]",
      "text/plain": [
       "<Figure size 432x288 with 1 Axes>"
      ]
     },
     "metadata": {},
     "output_type": "display_data"
    },
    {
     "data": {
      "text/plain": [
       "<Figure size 432x288 with 0 Axes>"
      ]
     },
     "metadata": {},
     "output_type": "display_data"
    }
   ],
   "source": [
    "#Plotting the results of weak scalability test\n",
    "\n",
    "import matplotlib\n",
    "import matplotlib.pyplot as plt\n",
    "\n",
    "plt.plot([1, 5, 10, 20], [execution_time1, execution_time2, execution_time3, execution_time4], 'k*--')\n",
    "plt.title(\"Weak Scaling\")\n",
    "plt.ylabel('Execution Time [s]')\n",
    "plt.xlabel('Subset [GB]')\n",
    "plt.show()\n",
    "plt.savefig(\"weak_scalability\")"
   ]
  },
  {
   "cell_type": "code",
   "execution_count": 45,
   "metadata": {},
   "outputs": [],
   "source": [
    "sc.stop()"
   ]
  },
  {
   "cell_type": "code",
   "execution_count": null,
   "metadata": {},
   "outputs": [],
   "source": []
  }
 ],
 "metadata": {
  "kernelspec": {
   "display_name": "Python 3",
   "language": "python",
   "name": "python3"
  },
  "language_info": {
   "codemirror_mode": {
    "name": "ipython",
    "version": 3
   },
   "file_extension": ".py",
   "mimetype": "text/x-python",
   "name": "python",
   "nbconvert_exporter": "python",
   "pygments_lexer": "ipython3",
   "version": "3.6.9"
  }
 },
 "nbformat": 4,
 "nbformat_minor": 2
}
