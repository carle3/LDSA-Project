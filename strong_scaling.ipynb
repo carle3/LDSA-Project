{
 "cells": [
  {
   "cell_type": "code",
   "execution_count": 1,
   "metadata": {},
   "outputs": [],
   "source": [
    "import os\n",
    "import sys\n",
    "import io\n",
    "import h5py\n",
    "import math\n",
    "import attr\n",
    "import time\n",
    "import matplotlib.pyplot as plt\n",
    "import glob\n",
    "import datetime\n",
    "import sqlite3\n",
    "import numpy as np\n",
    "import hdf5getters as GETTERS\n",
    "from pyspark.sql import SparkSession\n",
    "from pyspark import SparkConf, SparkContext\n",
    "from pyspark.mllib.stat import Statistics\n",
    "\n",
    "spark_session = SparkSession\\\n",
    "        .builder\\\n",
    "        .master(\"spark://192.168.2.35:7077\") \\\n",
    "        .appName(\"strong_scaling\")\\\n",
    "        .config(\"spark.executor.cores\",2)\\\n",
    "        .config(\"spark.dynamicAllocation.enabled\", False) \\\n",
    "        .config(\"spark.shuffle.service.enabled\", False) \\\n",
    "        .getOrCreate()\n",
    "        \n",
    "sc = spark_session.sparkContext"
   ]
  },
  {
   "cell_type": "code",
   "execution_count": 2,
   "metadata": {},
   "outputs": [],
   "source": [
    "def get_year(h5):   \n",
    "    return int(h5[\"musicbrainz\"][\"songs\"][0][1])\n",
    "\n",
    "def get_artist_hotness(h5):\n",
    "    x = float(h5[\"metadata\"][\"songs\"][0][3])\n",
    "    if math.isnan(x):\n",
    "        return 0.0\n",
    "    else:\n",
    "        return x\n",
    "def get_song_hotness(h5):\n",
    "    x =  float(h5[\"metadata\"][\"songs\"][0][16])\n",
    "    if math.isnan(x):\n",
    "        return 0.0\n",
    "    else:\n",
    "        return x\n",
    "def get_loudness(h5):\n",
    "    x = float(h5[\"analysis\"][\"songs\"][0][23])\n",
    "    if math.isnan(x):\n",
    "        return 0.0\n",
    "    else:\n",
    "        return x\n",
    "def get_tempo(h5):\n",
    "    x = float(h5[\"analysis\"][\"songs\"][0][27])\n",
    "    if math.isnan(x):\n",
    "        return 0.0\n",
    "    else:\n",
    "        return x\n",
    "\n",
    "def f(tup):\n",
    "    _path, data = tup\n",
    "    with io.BytesIO(data) as b, h5py.File(b, \"r\") as f:\n",
    "        return get_year(f), get_song_hotness(f), get_artist_hotness(f), get_loudness(f), get_tempo(f)"
   ]
  },
  {
   "cell_type": "code",
   "execution_count": 7,
   "metadata": {},
   "outputs": [],
   "source": [
    "start_time = time.time()\n",
    "\n",
    "A_list = [\"A\"]\n",
    "B_list = [\"A\", \"B\"]\n",
    "C_list = [\"A\", \"B\",\"C\",\"D\",\"E\",\"F\",\"G\",\"H\",\"I\",\"J\",\"K\",\"L\",\"M\",\"N\",\"O\", \"P\",\"Q\", \"R\",\"S\", \"T\",\"U\",\"V\",\"W\",\"X\",\"Y\",\"Z\"]\n",
    "\n",
    "all_paths = \"\"\n",
    "i = 0\n",
    "for letter in A_list:\n",
    "    path1 = \"hdfs://192.168.2.35:9000/A/\" + letter + \"/\"\n",
    "    for letter in B_list:\n",
    "        path2 = path1 + letter + \"/\"\n",
    "        for letter in C_list:\n",
    "            path3 = path2 + letter + \"/*\"\n",
    "            if i == 0:\n",
    "                all_paths = path3\n",
    "                i += 1\n",
    "                path3 = \"\"\n",
    "            else:\n",
    "                all_paths = all_paths + \",\" + path3\n",
    "                path3 = \"\"\n",
    "files = sc.binaryFiles(all_paths)"
   ]
  },
  {
   "cell_type": "code",
   "execution_count": 8,
   "metadata": {},
   "outputs": [],
   "source": [
    "rdd2 = files.map(lambda x: f(x))       \n",
    "\n",
    "rdd3 = rdd2.filter(lambda x: len(x) == 5)\\\n",
    "    .filter(lambda x: x[0] >= 1980)\\\n",
    "    .filter(lambda x: type(x[0]) == int and type(x[1])== float and type(x[2])== float and \\\n",
    "            type(x[3])== float and type(x[4])== float)"
   ]
  },
  {
   "cell_type": "code",
   "execution_count": 9,
   "metadata": {},
   "outputs": [
    {
     "name": "stdout",
     "output_type": "stream",
     "text": [
      "Correlation song hotness and artist hotness:  0.25210969290623153 \n",
      "Correlation song hotness and loudness:  0.12226923674273363 \n",
      "Correlation song hotness and tempo:  0.04604195104205415\n"
     ]
    }
   ],
   "source": [
    "rdd_song_hotness = rdd3.map(lambda x: x[1])\n",
    "rdd_artist_hotness = rdd3.map(lambda x: x[2])\n",
    "rdd_loudness = rdd3.map(lambda x: x[3])\n",
    "rdd_tempo = rdd3.map(lambda x: x[4])\n",
    "\n",
    "corr_artist = Statistics.corr(rdd_song_hotness, rdd_artist_hotness, method=\"pearson\")\n",
    "corr_loudness = Statistics.corr(rdd_song_hotness, rdd_loudness, method=\"pearson\")\n",
    "corr_tempo = Statistics.corr(rdd_song_hotness, rdd_tempo, method=\"pearson\")\n",
    "\n",
    "print(\"Correlation song hotness and artist hotness: \", corr_artist,\n",
    "\"\\nCorrelation song hotness and loudness: \", corr_loudness,\n",
    "\"\\nCorrelation song hotness and tempo: \", corr_tempo)"
   ]
  },
  {
   "cell_type": "code",
   "execution_count": 10,
   "metadata": {},
   "outputs": [
    {
     "name": "stdout",
     "output_type": "stream",
     "text": [
      "222.20344829559326\n"
     ]
    }
   ],
   "source": [
    "end_time = time.time()\n",
    "execution_time2 = end_time - start_time\n",
    "print(execution_time2)"
   ]
  },
  {
   "cell_type": "code",
   "execution_count": 12,
   "metadata": {},
   "outputs": [],
   "source": [
    "#------------ Strong scaling test ------------\n",
    "# The strong scaling was done on a fixed dataset. The fixed dataset was the folders of files /A/A/A/A-Y and /A/A/B/A-Y\n",
    "# The execution time was first run with both slaves which gave the execution time \"time_6_cores\" and then with\n",
    "# one slave which gave the time \"time_4_cores. Then another slave was added which gave the \"time_8_cores\"\n",
    "time_4_cores = 323.2746410369873\n",
    "time_6_cores = 270.50176787376404\n",
    "time_8_cores = 224.67982172966003"
   ]
  },
  {
   "cell_type": "code",
   "execution_count": 13,
   "metadata": {},
   "outputs": [],
   "source": [
    "# More data\n",
    "time_4_cores = 323.2746410369873\n",
    "time_6_cores = 270.50176787376404\n",
    "time_8_cores = 224.67982172966003"
   ]
  },
  {
   "cell_type": "code",
   "execution_count": 16,
   "metadata": {},
   "outputs": [
    {
     "data": {
      "image/png": "[encoded data removed]",
      "text/plain": [
       "<Figure size 432x288 with 1 Axes>"
      ]
     },
     "metadata": {},
     "output_type": "display_data"
    }
   ],
   "source": [
    "time = [time_4_cores, time_6_cores, time_8_cores]\n",
    "cores = [4, 6, 8]\n",
    "plt.plot(cores, time, 'k*--')\n",
    "plt.title('Strong Scaling')\n",
    "plt.xlabel('Number of cores')\n",
    "plt.ylabel('Runtime [sec]')\n",
    "plt.show()"
   ]
  },
  {
   "cell_type": "code",
   "execution_count": 2,
   "metadata": {},
   "outputs": [],
   "source": [
    "sc.stop()"
   ]
  }
 ],
 "metadata": {
  "kernelspec": {
   "display_name": "Python 3",
   "language": "python",
   "name": "python3"
  },
  "language_info": {
   "codemirror_mode": {
    "name": "ipython",
    "version": 3
   },
   "file_extension": ".py",
   "mimetype": "text/x-python",
   "name": "python",
   "nbconvert_exporter": "python",
   "pygments_lexer": "ipython3",
   "version": "3.6.9"
  }
 },
 "nbformat": 4,
 "nbformat_minor": 2
}
