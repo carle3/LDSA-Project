{
 "cells": [
  {
   "cell_type": "code",
   "execution_count": 1,
   "metadata": {},
   "outputs": [],
   "source": [
    "import os\n",
    "import sys\n",
    "import time\n",
    "import glob\n",
    "import datetime\n",
    "import sqlite3\n",
    "import numpy as np\n",
    "import hdf5getters as GETTERS\n",
    "from pyspark.sql import SparkSession\n",
    "from pyspark import SparkConf, SparkContext\n",
    "\n",
    "spark_session = SparkSession\\\n",
    "        .builder\\\n",
    "        .master(\"spark://192.168.2.35:7077\") \\\n",
    "        .appName(\"Jenny\")\\\n",
    "        .config(\"spark.executor.cores\",2)\\\n",
    "        .config(\"spark.dynamicAllocation.enabled\", False) \\\n",
    "        .config(\"spark.shuffle.service.enabled\", False) \\\n",
    "        .getOrCreate()\n",
    "        \n",
    "sc = spark_session.sparkContext"
   ]
  },
  {
   "cell_type": "code",
   "execution_count": 2,
   "metadata": {},
   "outputs": [
    {
     "name": "stdout",
     "output_type": "stream",
     "text": [
      "number of song files: 10000\n"
     ]
    }
   ],
   "source": [
    "msd_subset_path='/home/ubuntu/MillionSongSubset/'\n",
    "msd_subset_data_path=os.path.join(msd_subset_path,'data')\n",
    "msd_subset_addf_path=os.path.join(msd_subset_path,'AdditionalFiles')\n",
    "msd_code_path='/home/ubuntu/MSongsDB'\n",
    "dbfile = '/home/ubuntu/MSongsDB/Tasks_Demos/SQLite/track_metadata.db'\n",
    "sys.path.append(os.path.join(msd_code_path,'PythonSrc'))\n",
    "\n",
    "def apply_to_all_files(basedir,func=lambda x: x,ext='.h5'):\n",
    "    cnt = 0\n",
    "    for root, dirs, files in os.walk(basedir):\n",
    "        files = glob.glob(os.path.join(root,'*'+ext))\n",
    "        cnt += len(files)\n",
    "        for f in files :\n",
    "            func(f)       \n",
    "    return cnt\n",
    "\n",
    "print('number of song files:',apply_to_all_files(msd_subset_data_path))"
   ]
  },
  {
   "cell_type": "code",
   "execution_count": 3,
   "metadata": {},
   "outputs": [
    {
     "name": "stdout",
     "output_type": "stream",
     "text": [
      "found 9975 tracks\n",
      "(1999, -15.008, 0.34092275586437804)\n",
      "(0, -15.81, 0.24099189058358852)\n",
      "(0, -5.129, nan)\n",
      "(1989, -10.062, nan)\n",
      "(0, -3.909, 0.0)\n"
     ]
    }
   ],
   "source": [
    "all_the_info = set()\n",
    "\n",
    "def func_to_get_all_the_info(filename):\n",
    "    h5 = GETTERS.open_h5_file_read(filename)\n",
    "    #track_id = GETTERS.get_track_id(h5)\n",
    "    artist = GETTERS.open_artist_name(h5)\n",
    "    year = GETTERS.get_year(h5)\n",
    "    #danceability = GETTERS.get_danceability(h5)\n",
    "    #energy = GETTERS.get_energy(h5)\n",
    "    loudness = GETTERS.get_loudness(h5)\n",
    "    hotness = GETTERS.get_song_hotttnesss(h5)\n",
    "    pitch = GETTERS.get_key(h5)\n",
    "    all_the_info.add((year, loudness, hotness))\n",
    "    h5.close()\n",
    "\n",
    "apply_to_all_files(msd_subset_data_path,func=func_to_get_all_the_info)\n",
    "\n",
    "print('found',len(all_the_info),'tracks')\n",
    "for k in range(5):\n",
    "    print(list(all_the_info)[k])"
   ]
  },
  {
   "cell_type": "code",
   "execution_count": 4,
   "metadata": {},
   "outputs": [
    {
     "name": "stdout",
     "output_type": "stream",
     "text": [
      "[(1999, -15.008, 0.34092275586437804)]\n"
     ]
    }
   ],
   "source": [
    "rdd = sc.parallelize(list(all_the_info))\n",
    "print(rdd.take(1))"
   ]
  },
  {
   "cell_type": "code",
   "execution_count": 5,
   "metadata": {},
   "outputs": [],
   "source": [
    "sc.stop()"
   ]
  },
  {
   "cell_type": "code",
   "execution_count": null,
   "metadata": {},
   "outputs": [],
   "source": []
  }
 ],
 "metadata": {
  "kernelspec": {
   "display_name": "Python 3",
   "language": "python",
   "name": "python3"
  },
  "language_info": {
   "codemirror_mode": {
    "name": "ipython",
    "version": 3
   },
   "file_extension": ".py",
   "mimetype": "text/x-python",
   "name": "python",
   "nbconvert_exporter": "python",
   "pygments_lexer": "ipython3",
   "version": "3.6.9"
  }
 },
 "nbformat": 4,
 "nbformat_minor": 2
}
