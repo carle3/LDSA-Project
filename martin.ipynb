{
 "cells": [
  {
   "cell_type": "code",
   "execution_count": 1,
   "metadata": {},
   "outputs": [],
   "source": [
    "from hdf5getters import *\n",
    "from pathlib import Path\n",
    "from pyspark.sql import SparkSession\n",
    "\n",
    "spark_session = SparkSession\\\n",
    "        .builder\\\n",
    "        .master(\"spark://192.168.2.35:7077\") \\\n",
    "        .appName(\"martin\")\\\n",
    "        .getOrCreate()\n",
    "\n",
    "sc = spark_session.sparkContext"
   ]
  },
  {
   "cell_type": "code",
   "execution_count": 2,
   "metadata": {},
   "outputs": [
    {
     "name": "stdout",
     "output_type": "stream",
     "text": [
      "[0, 2, 3, 4, 6]\n"
     ]
    }
   ],
   "source": [
    "# Get all .h5 files\n",
    "files = Path('/home/ubuntu/MillionSongSubset/data').rglob('*.h5')\n",
    "rdd = sc.parallelize([0, 2, 3, 4, 6], 5)\n",
    "print(rdd.collect())\n",
    "sc.stop()\n",
    "\n",
    "#files_rdd = sc.parallelize(list(files))\n",
    "#print(files_rdd.count())"
   ]
  },
  {
   "cell_type": "code",
   "execution_count": null,
   "metadata": {},
   "outputs": [],
   "source": [
    "h5file = open_h5_file_read(\"../MillionSongSubset/data/A/A/A/TRAAARJ128F9320760.h5\")\n",
    "\n",
    "data = [get_song_id(h5file), get_song_hotttnesss(h5file)]\n",
    "\n",
    "print(data)\n",
    "\n",
    "#rdd = sc.parallelize(h5)\n",
    "#rdd = sc.textFile(h5);"
   ]
  },
  {
   "cell_type": "code",
   "execution_count": null,
   "metadata": {},
   "outputs": [],
   "source": [
    "#spark_context.stop()"
   ]
  },
  {
   "cell_type": "code",
   "execution_count": null,
   "metadata": {},
   "outputs": [],
   "source": [
    "h5.close()"
   ]
  }
 ],
 "metadata": {
  "kernelspec": {
   "display_name": "Python 3",
   "language": "python",
   "name": "python3"
  },
  "language_info": {
   "codemirror_mode": {
    "name": "ipython",
    "version": 3
   },
   "file_extension": ".py",
   "mimetype": "text/x-python",
   "name": "python",
   "nbconvert_exporter": "python",
   "pygments_lexer": "ipython3",
   "version": "3.6.9"
  }
 },
 "nbformat": 4,
 "nbformat_minor": 2
}
