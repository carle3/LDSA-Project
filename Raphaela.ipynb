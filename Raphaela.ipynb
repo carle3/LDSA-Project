{
 "cells": [
  {
   "cell_type": "code",
   "execution_count": 1,
   "metadata": {},
   "outputs": [],
   "source": [
    "import os\n",
    "import sys\n",
    "import time\n",
    "import glob\n",
    "import datetime\n",
    "import sqlite3\n",
    "import numpy as np\n",
    "import hdf5getters as GETTERS\n",
    "from pyspark.sql import SparkSession\n",
    "from pyspark import SparkConf, SparkContext\n",
    "\n",
    "spark_session = SparkSession\\\n",
    "        .builder\\\n",
    "        .master(\"spark://192.168.2.35:7077\") \\\n",
    "        .appName(\"r\")\\\n",
    "        .config(\"spark.executor.cores\",2)\\\n",
    "        .config(\"spark.dynamicAllocation.enabled\", False) \\\n",
    "        .config(\"spark.shuffle.service.enabled\", False) \\\n",
    "        .getOrCreate()\n",
    "        \n",
    "sc = spark_session.sparkContext"
   ]
  },
  {
   "cell_type": "code",
   "execution_count": 2,
   "metadata": {},
   "outputs": [
    {
     "name": "stdout",
     "output_type": "stream",
     "text": [
      "number of song files: 10000\n"
     ]
    }
   ],
   "source": [
    "msd_subset_path='/home/ubuntu/MillionSongSubset/'\n",
    "msd_subset_data_path=os.path.join(msd_subset_path,'data')\n",
    "msd_subset_addf_path=os.path.join(msd_subset_path,'AdditionalFiles')\n",
    "msd_code_path='/home/ubuntu/MSongsDB'\n",
    "dbfile = '/home/ubuntu/MSongsDB/Tasks_Demos/SQLite/track_metadata.db'\n",
    "sys.path.append(os.path.join(msd_code_path,'PythonSrc'))\n",
    "\n",
    "def apply_to_all_files(basedir,func=lambda x: x,ext='.h5'):\n",
    "    cnt = 0\n",
    "    for root, dirs, files in os.walk(basedir):\n",
    "        files = glob.glob(os.path.join(root,'*'+ext))\n",
    "        cnt += len(files)\n",
    "        for f in files :\n",
    "            func(f)       \n",
    "    return cnt\n",
    "\n",
    "print('number of song files:',apply_to_all_files(msd_subset_data_path))"
   ]
  },
  {
   "cell_type": "code",
   "execution_count": 3,
   "metadata": {},
   "outputs": [
    {
     "data": {
      "text/plain": [
       "10000"
      ]
     },
     "execution_count": 3,
     "metadata": {},
     "output_type": "execute_result"
    }
   ],
   "source": [
    "all_the_info = set()\n",
    "\n",
    "def func_to_get_all_the_info(filename):\n",
    "    h5 = GETTERS.open_h5_file_read(filename)\n",
    "    year = GETTERS.get_year(h5)\n",
    "    hotness = GETTERS.get_song_hotttnesss(h5)\n",
    "    artist_hotness = GETTERS.get_artist_hotttnesss(h5)\n",
    "    loudness = GETTERS.get_loudness(h5)\n",
    "    tempo = GETTERS.get_tempo(h5)\n",
    "    key = GETTERS.get_key(h5)\n",
    "    \n",
    "    all_the_info.add((year, hotness, artist_hotness, loudness, tempo, key))\n",
    "    h5.close()\n",
    "\n",
    "apply_to_all_files(msd_subset_data_path,func=func_to_get_all_the_info)"
   ]
  },
  {
   "cell_type": "code",
   "execution_count": 4,
   "metadata": {},
   "outputs": [
    {
     "data": {
      "text/plain": [
       "[(1988, [0.5473248320344863, 0.46682699252718746, -11.356, 91.328, 7, 1]),\n",
       " (2006, [0.6049633995508662, 0.42978028579125227, -4.576, 125.987, 9, 1]),\n",
       " (2002, [0.3603705827121406, 0.41478065907349704, -10.215, 216.023, 8, 1]),\n",
       " (2000, [0.4287022625232594, 0.4494236346936823, -5.031, 81.224, 6, 1]),\n",
       " (1993, [0.4507622416414992, 0.42495308411251165, -35.277, 152.084, 8, 1])]"
      ]
     },
     "execution_count": 4,
     "metadata": {},
     "output_type": "execute_result"
    }
   ],
   "source": [
    "rdd = sc.parallelize(list(all_the_info))\n",
    "rdd1 = rdd.map(lambda x: list(x)).map(lambda y: ([int(y[0]), y[1], y[2], y[3], y[4], y[5]]))\n",
    "rdd2 = rdd1.filter(lambda x: len(x) == 6)\\\n",
    "    .filter(lambda x: type(x[0]) == int and x[0] >= 1980)\\\n",
    "    .filter(lambda x: x[1] > 0)\n",
    "rdd3 = rdd2.map(lambda x: (x[0], [x[1], x[2], x[3], x[4], x[5], 1]))"
   ]
  },
  {
   "cell_type": "code",
   "execution_count": 32,
   "metadata": {
    "scrolled": true
   },
   "outputs": [
    {
     "data": {
      "text/plain": [
       "PythonRDD[58] at RDD at PythonRDD.scala:53"
      ]
     },
     "execution_count": 32,
     "metadata": {},
     "output_type": "execute_result"
    }
   ],
   "source": [
    "rdd4 = rdd3.reduceByKey(lambda a,b: [a[0]+b[0], a[1]+b[1], a[2]+b[2], a[3]+b[3], a[4]+b[4], a[5]+b[5]])\\\n",
    "    .map(lambda x: (x[0], [x[1][0]/x[1][5], x[1][1]/x[1][5], x[1][2]/x[1][5], x[1][3]/x[1][5], x[1][4]/x[1][5]]))\n",
    "rdd4.cache()"
   ]
  },
  {
   "cell_type": "code",
   "execution_count": 54,
   "metadata": {},
   "outputs": [],
   "source": [
    "import math\n",
    "\n",
    "def sigmoid(alist):\n",
    "    listMax = float(max(alist))\n",
    "    alist = [i/listMax for i in alist]\n",
    "    alist = [1/(1+math.exp(-i)) for i in alist]\n",
    "    return alist\n",
    "\n",
    "time = sorted(rdd4.map(lambda x: x[0]).collect())\n",
    "song_hotness = sigmoid(sorted(rdd4.map(lambda x: x[1][0]).collect()))\n",
    "artist_hotness = sigmoid(sorted(rdd4.map(lambda x: x[1][1]).collect()))\n",
    "loudness = sigmoid(sorted(rdd4.map(lambda x: x[1][2]).collect()))\n",
    "tempo = sigmoid(sorted(rdd4.map(lambda x: x[1][3]).collect()))"
   ]
  },
  {
   "cell_type": "code",
   "execution_count": 82,
   "metadata": {},
   "outputs": [
    {
     "data": {
      "image/png": "[encoded data removed]",
      "text/plain": [
       "<Figure size 432x288 with 1 Axes>"
      ]
     },
     "metadata": {},
     "output_type": "display_data"
    }
   ],
   "source": [
    "import matplotlib\n",
    "import matplotlib.pyplot as plt\n",
    "import numpy as np\n",
    "\n",
    "x = np.arange(len(time))\n",
    "width = 1\n",
    "\n",
    "fig, ax = plt.subplots()\n",
    "rects1 = ax.bar(x - 3*width/8, song_hotness, width/4, label='Song Hotttnesss')\n",
    "rects3 = ax.bar(x - width/8, loudness, width/4, label='Loudness')\n",
    "rects4 = ax.bar(x + width/8, tempo, width/4, label='Tempo')\n",
    "rects2 = ax.bar(x + 3*width/8, artist_hotness, width/4, label='Artist Hotttnesss')\n",
    "\n",
    "ax.set_ylabel('Scores')\n",
    "ax.set_title('Average Normalized Scores per Year')\n",
    "ax.set_xticks(x)\n",
    "ax.set_xticklabels(time, rotation = 90)\n",
    "\n",
    "ax.legend(loc = 'lower right')\n",
    "\n",
    "plt.show()\n"
   ]
  },
  {
   "cell_type": "code",
   "execution_count": 83,
   "metadata": {},
   "outputs": [],
   "source": [
    "#sc.stop()"
   ]
  },
  {
   "cell_type": "code",
   "execution_count": null,
   "metadata": {},
   "outputs": [],
   "source": []
  }
 ],
 "metadata": {
  "kernelspec": {
   "display_name": "Python 3",
   "language": "python",
   "name": "python3"
  },
  "language_info": {
   "codemirror_mode": {
    "name": "ipython",
    "version": 3
   },
   "file_extension": ".py",
   "mimetype": "text/x-python",
   "name": "python",
   "nbconvert_exporter": "python",
   "pygments_lexer": "ipython3",
   "version": "3.6.9"
  }
 },
 "nbformat": 4,
 "nbformat_minor": 2
}
